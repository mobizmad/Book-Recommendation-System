{
  "nbformat": 4,
  "nbformat_minor": 0,
  "metadata": {
    "colab": {
      "provenance": []
    },
    "kernelspec": {
      "name": "python3",
      "display_name": "Python 3"
    },
    "language_info": {
      "name": "python"
    }
  },
  "cells": [
    {
      "cell_type": "code",
      "source": [
        "!pip install Surprise"
      ],
      "metadata": {
        "colab": {
          "base_uri": "https://localhost:8080/"
        },
        "id": "-RjoIyRKHbPX",
        "outputId": "1a32b1b2-8bf8-4309-b3a8-7752e1ab1da0"
      },
      "execution_count": 1,
      "outputs": [
        {
          "output_type": "stream",
          "name": "stdout",
          "text": [
            "Collecting Surprise\n",
            "  Downloading surprise-0.1-py2.py3-none-any.whl.metadata (327 bytes)\n",
            "Collecting scikit-surprise (from Surprise)\n",
            "  Downloading scikit_surprise-1.1.4.tar.gz (154 kB)\n",
            "\u001b[2K     \u001b[90m━━━━━━━━━━━━━━━━━━━━━━━━━━━━━━━━━━━━━━━━\u001b[0m \u001b[32m154.4/154.4 kB\u001b[0m \u001b[31m3.3 MB/s\u001b[0m eta \u001b[36m0:00:00\u001b[0m\n",
            "\u001b[?25h  Installing build dependencies ... \u001b[?25l\u001b[?25hdone\n",
            "  Getting requirements to build wheel ... \u001b[?25l\u001b[?25hdone\n",
            "  Preparing metadata (pyproject.toml) ... \u001b[?25l\u001b[?25hdone\n",
            "Requirement already satisfied: joblib>=1.2.0 in /usr/local/lib/python3.10/dist-packages (from scikit-surprise->Surprise) (1.4.2)\n",
            "Requirement already satisfied: numpy>=1.19.5 in /usr/local/lib/python3.10/dist-packages (from scikit-surprise->Surprise) (1.26.4)\n",
            "Requirement already satisfied: scipy>=1.6.0 in /usr/local/lib/python3.10/dist-packages (from scikit-surprise->Surprise) (1.13.1)\n",
            "Downloading surprise-0.1-py2.py3-none-any.whl (1.8 kB)\n",
            "Building wheels for collected packages: scikit-surprise\n",
            "  Building wheel for scikit-surprise (pyproject.toml) ... \u001b[?25l\u001b[?25hdone\n",
            "  Created wheel for scikit-surprise: filename=scikit_surprise-1.1.4-cp310-cp310-linux_x86_64.whl size=2357282 sha256=9240156859d06b3b0e89791f8f57073a5944061e3041f7760bf4bdb116e2dcf5\n",
            "  Stored in directory: /root/.cache/pip/wheels/4b/3f/df/6acbf0a40397d9bf3ff97f582cc22fb9ce66adde75bc71fd54\n",
            "Successfully built scikit-surprise\n",
            "Installing collected packages: scikit-surprise, Surprise\n",
            "Successfully installed Surprise-0.1 scikit-surprise-1.1.4\n"
          ]
        }
      ]
    },
    {
      "cell_type": "code",
      "source": [
        "from surprise import SVD, Dataset, Reader, accuracy\n",
        "from surprise.model_selection import train_test_split\n",
        "import pandas as pd\n",
        "\n",
        "\n",
        "# Load the dataset\n",
        "interactions = pd.read_csv('/content/drive/MyDrive/ColabNotebooks/Mini project 3 data/interactions_large.csv/interactions_large.csv')\n",
        "books_metadata = pd.read_csv('/content/drive/MyDrive/ColabNotebooks/Mini project 3 data/books_metadata_large.csv/books_metadata_large.csv')\n",
        "\n",
        "# Define the Reader and load the dataset into Surprise\n",
        "reader = Reader(rating_scale=(1, 5))\n",
        "data = Dataset.load_from_df(interactions[['user_id', 'book_id', 'rating']], reader)\n",
        "\n",
        "# Use train and test splits from Mini-project 3 (80% train, 20% test)\n",
        "trainset, testset = train_test_split(data, test_size=0.2)\n",
        "\n",
        "# Collaborative filtering using SVD (Mini-project 3)\n",
        "algo_svd = SVD()\n",
        "algo_svd.fit(trainset)\n",
        "\n",
        "# SVD Predictions on test set\n",
        "svd_predictions = algo_svd.test(testset)\n",
        "\n",
        "# Calculate RMSE for SVD (Mini-project 3)\n",
        "rmse_svd = accuracy.rmse(svd_predictions)\n",
        "\n"
      ],
      "metadata": {
        "id": "7d6oIMjcjXXa",
        "colab": {
          "base_uri": "https://localhost:8080/"
        },
        "outputId": "882fea0c-3cda-4350-e623-6dfe2212bf72"
      },
      "execution_count": 20,
      "outputs": [
        {
          "output_type": "stream",
          "name": "stdout",
          "text": [
            "RMSE: 1.7397\n"
          ]
        }
      ]
    },
    {
      "cell_type": "code",
      "source": [
        "from surprise import Prediction\n",
        "import pandas as pd\n",
        "\n",
        "\n",
        "\n",
        "# Step 1: Generate Top-N Popular Books based on ratings count and average rating\n",
        "\n",
        "top_books = books_metadata[['book_id', 'average_rating', 'ratings_count']]\n",
        "\n",
        "popular_books = top_books[top_books['ratings_count'] > 100]\n",
        "\n",
        "popular_books = popular_books.sort_values(by=['average_rating', 'ratings_count'], ascending=False)\n",
        "\n",
        "N =20\n",
        "\n",
        "top_n_books = popular_books.head(N)\n",
        "\n",
        "# Step 2: Hybrid Recommendation Algorithm (SVD + Top-N Popular Books)\n",
        "\n",
        "# Hybrid predictions: Combine SVD predictions with popular book recommendations\n",
        "hybrid_predictions = []\n",
        "for uid, iid, true_r in testset:\n",
        "    # Get SVD prediction\n",
        "    svd_pred = algo_svd.predict(uid, iid).est\n",
        "\n",
        "    # If the book is in the top N popular books, average its rating with the SVD prediction\n",
        "    if iid in top_n_books['book_id'].values:\n",
        "        popular_rating = top_n_books[top_n_books['book_id'] == iid]['average_rating'].values[0]\n",
        "        hybrid_rating = (svd_pred + popular_rating) / 2  # Average of SVD and popular book rating\n",
        "    else:\n",
        "        hybrid_rating = svd_pred  # If not in popular books, use only SVD prediction\n",
        "\n",
        "    hybrid_predictions.append((uid, iid, true_r, hybrid_rating))\n",
        "\n",
        "# Step 3: Evaluate the Hybrid Model Using RMSE\n",
        "\n",
        "# Convert hybrid predictions to Surprise's Prediction object format for RMSE evaluation\n",
        "hybrid_pred_objs = [Prediction(uid, iid, true_r, est, None) for (uid, iid, true_r, est) in hybrid_predictions]\n",
        "\n",
        "# Calculate RMSE for the hybrid model (Mini-project 4)\n",
        "rmse_hybrid = accuracy.rmse(hybrid_pred_objs)\n",
        "\n",
        "\n",
        "# Step 4: Compare RMSE of SVD and Hybrid Models\n",
        "print(f\"SVD RMSE (Mini-project 3): {rmse_svd}\")\n",
        "print(f\"Hybrid Model RMSE (Mini-project 4): {rmse_hybrid}\")\n"
      ],
      "metadata": {
        "colab": {
          "base_uri": "https://localhost:8080/"
        },
        "id": "pd_sIjuDmvbk",
        "outputId": "ebe28cc6-ea35-4fe7-c691-17351943d234"
      },
      "execution_count": 22,
      "outputs": [
        {
          "output_type": "stream",
          "name": "stdout",
          "text": [
            "RMSE: 1.7406\n",
            "SVD RMSE (Mini-project 3): 1.7397441168331924\n",
            "Hybrid Model RMSE (Mini-project 4): 1.7405900865650985\n"
          ]
        }
      ]
    },
    {
      "cell_type": "code",
      "source": [],
      "metadata": {
        "id": "I0fnrf72QUXR"
      },
      "execution_count": null,
      "outputs": []
    }
  ]
}